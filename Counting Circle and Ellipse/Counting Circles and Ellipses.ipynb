{
 "cells": [
  {
   "cell_type": "markdown",
   "metadata": {},
   "source": [
    "# Counting Circles and Ellipses"
   ]
  },
  {
   "cell_type": "code",
   "execution_count": 1,
   "metadata": {},
   "outputs": [],
   "source": [
    "import cv2\n",
    "import numpy as np"
   ]
  },
  {
   "cell_type": "code",
   "execution_count": 12,
   "metadata": {},
   "outputs": [],
   "source": [
    "# Loading Image as Grayscale\n",
    "image = cv2.imread(\"../images/blobs.jpg\",0)\n",
    "cv2.imshow(\"Original\",image)\n",
    "cv2.waitKey()\n",
    "\n",
    "# Initialize the detector using default parameters\n",
    "detector = cv2.SimpleBlobDetector_create()\n",
    "\n",
    "# Detect Blobs\n",
    "keypoints = detector.detect(image)\n",
    "\n",
    "# Draw blobs on the image\n",
    "blank = np.zeros((1,1))\n",
    "blobs = cv2.drawKeypoints(image,keypoints,blank,(0,0,255),cv2.DRAW_MATCHES_FLAGS_DEFAULT)\n",
    "\n",
    "# Count the number of blogs and put text\n",
    "number_of_blobs = len(keypoints)\n",
    "text = \"Total Number of Blobs: \" + str(number_of_blobs)\n",
    "cv2.putText(blobs,text,(20,550),cv2.FONT_HERSHEY_COMPLEX,1,(0,255,0),1)\n",
    "\n",
    "# Display image\n",
    "cv2.imshow(\"All blobs\",blobs)\n",
    "cv2.waitKey()\n",
    "\n",
    "# Setting our filtering parameters\n",
    "params = cv2.SimpleBlobDetector_Params()\n",
    "\n",
    "# Set area filtering parameters\n",
    "params.filterByArea = True\n",
    "params.minArea = 100\n",
    "\n",
    "# Set Circularity filtering parameters\n",
    "params.filterByCircularity = True \n",
    "params.minCircularity = 0.9\n",
    "\n",
    "# Set Convexity filtering parameters\n",
    "params.filterByConvexity = False\n",
    "params.minConvexity = 0.2\n",
    "    \n",
    "# Set inertia filtering parameters\n",
    "params.filterByInertia = True\n",
    "params.minInertiaRatio = 0.01\n",
    "\n",
    "# Create a detector with the parameters\n",
    "detector = cv2.SimpleBlobDetector_create(params)\n",
    "\n",
    "# Detect Blobs\n",
    "keypoints = detector.detect(image)\n",
    "\n",
    "# Draw blobs on the image\n",
    "blank = np.zeros((1,1))\n",
    "blobs = cv2.drawKeypoints(image,keypoints,blank,(0,0,255),cv2.DRAW_MATCHES_FLAGS_DEFAULT)\n",
    "\n",
    "# Count the number of blogs and put text\n",
    "number_of_blobs = len(keypoints)\n",
    "text = \"Total Number of Circular Blobs: \" + str(number_of_blobs)\n",
    "cv2.putText(blobs,text,(10,550),cv2.FONT_HERSHEY_COMPLEX,1,(0,255,0),1)\n",
    "\n",
    "# Display image\n",
    "cv2.imshow(\"Circular blobs\",blobs)\n",
    "cv2.waitKey()\n",
    "\n",
    "cv2.destroyAllWindows()"
   ]
  },
  {
   "cell_type": "code",
   "execution_count": null,
   "metadata": {},
   "outputs": [],
   "source": []
  }
 ],
 "metadata": {
  "kernelspec": {
   "display_name": "Python 3",
   "language": "python",
   "name": "python3"
  },
  "language_info": {
   "codemirror_mode": {
    "name": "ipython",
    "version": 3
   },
   "file_extension": ".py",
   "mimetype": "text/x-python",
   "name": "python",
   "nbconvert_exporter": "python",
   "pygments_lexer": "ipython3",
   "version": "3.7.7"
  }
 },
 "nbformat": 4,
 "nbformat_minor": 4
}
