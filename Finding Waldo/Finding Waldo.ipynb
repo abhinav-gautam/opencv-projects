{
 "cells": [
  {
   "cell_type": "markdown",
   "metadata": {},
   "source": [
    "# Finding Waldo"
   ]
  },
  {
   "cell_type": "code",
   "execution_count": 1,
   "metadata": {},
   "outputs": [],
   "source": [
    "import cv2\n",
    "import numpy as np"
   ]
  },
  {
   "cell_type": "code",
   "execution_count": 3,
   "metadata": {},
   "outputs": [],
   "source": [
    "image = cv2.imread(\"../images/WaldoBeach.jpg\")\n",
    "cv2.imshow(\"Where is Waldo?\",image)\n",
    "cv2.waitKey()\n",
    "\n",
    "# Converting it to grayscale\n",
    "gray_image = cv2.cvtColor(image,cv2.COLOR_BGR2GRAY)\n",
    "\n",
    "# Loading the template image\n",
    "template = cv2.imread(\"../images/waldo.jpg\",0)\n",
    "\n",
    "# Matching template with target image\n",
    "result = cv2.matchTemplate(gray_image,template,cv2.TM_CCOEFF)\n",
    "minVal, maxVal, minLoc, maxLoc = cv2.minMaxLoc(result)\n",
    "\n",
    "# Creating bounding box\n",
    "top_left = maxLoc\n",
    "bottom_right = (top_left[0] + 50,top_left[1] + 50)\n",
    "cv2.rectangle(image,top_left,bottom_right,(0,0,255),2)\n",
    "cv2.imshow(\"Waldo Found\",image)\n",
    "cv2.waitKey()\n",
    "cv2.destroyAllWindows()"
   ]
  },
  {
   "cell_type": "code",
   "execution_count": null,
   "metadata": {},
   "outputs": [],
   "source": []
  }
 ],
 "metadata": {
  "kernelspec": {
   "display_name": "Python 3",
   "language": "python",
   "name": "python3"
  },
  "language_info": {
   "codemirror_mode": {
    "name": "ipython",
    "version": 3
   },
   "file_extension": ".py",
   "mimetype": "text/x-python",
   "name": "python",
   "nbconvert_exporter": "python",
   "pygments_lexer": "ipython3",
   "version": "3.7.7"
  }
 },
 "nbformat": 4,
 "nbformat_minor": 4
}
